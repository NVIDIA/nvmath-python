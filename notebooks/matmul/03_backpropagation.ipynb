{
 "cells": [
  {
   "cell_type": "markdown",
   "id": "7853d721-ee63-4177-a01a-0c07f835814d",
   "metadata": {},
   "source": [
    "Copyright (c) 2023, NVIDIA CORPORATION & AFFILIATES\r\n",
    "\r\n",
    "SPDX-License-Identifier: BSD-3-Clause"
   ]
  },
  {
   "cell_type": "markdown",
   "id": "1388882b-0c36-4ac2-ac0b-9e909f543605",
   "metadata": {},
   "source": [
    "# Implementing a neural network using nvmath-python"
   ]
  },
  {
   "cell_type": "markdown",
   "id": "292c2024-bd73-48de-8320-62c0ec0df645",
   "metadata": {},
   "source": [
    "In this notebook we will demonstrate how you can use nvmath-python matrix multiplication capabilities to implement a simple neural network recognizing digits from MNIST dataset. We will show how matmul epilogs can be used to simplify implementation and improve performance of both forward and backward pass. To learn more about how to use nvmath-python, please refer to the previous notebooks.\n",
    "\n",
    "We will use PyTorch to conveniently load and preprocess the data, but the model itself will be implemented in CuPy and nvmath-python."
   ]
  },
  {
   "cell_type": "markdown",
   "id": "988bc69e-81de-44c1-bba9-86086f7ab08d",
   "metadata": {},
   "source": [
    "## MNIST Dataset"
   ]
  },
  {
   "cell_type": "markdown",
   "id": "c7f4d575-29f4-4bb4-9852-e79ff50cbbb5",
   "metadata": {},
   "source": [
    "[MNIST database](https://en.wikipedia.org/wiki/MNIST_database) is a set of handwritten digits in 28x28 images. As we mentioned before, we will use PyTorch for convenient data-loading. Let us define a helper function for data-loading, which will return normalized and flattened images from MNIST dataset converted into CuPy arrays.\n",
    "\n",
    "*Normalization* means adjusting all of the images to have the same mean and standard deviation, which improves training convergence. *Flattening* means reshaping the image from its original 2D form ($28\\times 28$ pixels) to a 1D vector (of size $28 \\cdot 28 = 784$), which can be directly fed to the input layer of the network."
   ]
  },
  {
   "cell_type": "code",
   "execution_count": 1,
   "id": "f7cbf36c-ec36-4fe9-a18b-ea3712c24650",
   "metadata": {},
   "outputs": [],
   "source": [
    "import cupy\n",
    "import torch  # For data loading only\n",
    "from torchvision import datasets, transforms  # For data loading only\n",
    "\n",
    "BATCH_SIZE = 256\n",
    "\n",
    "\n",
    "def get_loader(*, train: bool):\n",
    "    \"\"\"\n",
    "    Returns an iterator over cupy arrays representing images from MNIST dataset.\n",
    "    \"\"\"\n",
    "    transform = transforms.Compose(\n",
    "        [\n",
    "            transforms.ToTensor(),\n",
    "            transforms.Normalize((0.1307,), (0.3081,)),\n",
    "            transforms.Lambda(lambda x: torch.flatten(x)),\n",
    "        ]\n",
    "    )\n",
    "\n",
    "    dataset = datasets.MNIST(\"./data\", train=train, download=True, transform=transform)\n",
    "    loader = torch.utils.data.DataLoader(dataset, shuffle=False, batch_size=BATCH_SIZE, drop_last=True)\n",
    "    return map(lambda x: (cupy.asarray(x[0]), cupy.asarray(x[1])), loader)"
   ]
  },
  {
   "cell_type": "markdown",
   "id": "42a8baac-c374-4ad4-a75c-e239c2dc362a",
   "metadata": {},
   "source": [
    "Let us plot first few images from the dataset:"
   ]
  },
  {
   "cell_type": "code",
   "execution_count": 2,
   "id": "df6db324-ec0a-4bbf-96aa-862de8d68c4e",
   "metadata": {},
   "outputs": [
    {
     "data": {
      "image/png": "[encoded data removed]",
      "text/plain": [
       "<Figure size 640x480 with 6 Axes>"
      ]
     },
     "metadata": {},
     "output_type": "display_data"
    }
   ],
   "source": [
    "from matplotlib import pyplot as plt\n",
    "\n",
    "loader = get_loader(train=True)\n",
    "images, labels = next(loader)\n",
    "\n",
    "fig, axs = plt.subplots(1, 6)\n",
    "for ax, image, label in zip(axs, images, labels, strict=False):\n",
    "    ax.imshow(image.get().reshape(28, 28), cmap=\"Grays\")\n",
    "    ax.axis(\"off\")\n",
    "    ax.set_title(str(label))"
   ]
  },
  {
   "cell_type": "markdown",
   "id": "76755f14-a1ee-4722-aef8-f3f5a9d49187",
   "metadata": {},
   "source": [
    "## Network architecture\n",
    "\n",
    "Our network will have a single hidden layer followed by a ReLU activation. We will use sigmoid as the activation for the output layer and Binary Cross-Entropy as the loss. A simple [mini-batch SGD](https://en.wikipedia.org/wiki/Stochastic_gradient_descent) (Stochastic Gradient Descent) will be used to optimize: we will process a batch of 256 images in each iteration and update model weights after each iteration.\n",
    "\n",
    "While this is a very simple network, the concepts it is based on can be generalized to more complex architectures.\n",
    "\n",
    "Let us denote the matrices of weights and biases of hidden and output layer as $W_H$, $B_H$, $W_O$, $B_O$ respectively. The forward pass of our network can be written like this in terms of matrix multiplication:\n",
    "\n",
    "$$\n",
    "\\text{forward}(x) = \\sigma\\left(W_O \\;\\text{relu}\\left(W_Hx^T + B_H\\right) + B_O\\right)\n",
    "$$\n",
    "\n",
    "The loss function, Binary Cross-Entropy, is defined as:\n",
    "$$\n",
    "L = -\\text{mean}\\left(y_i \\cdot \\log(\\hat{y}_i)\\right)\n",
    "$$\n",
    "\n",
    "### Gradients\n",
    "\n",
    "As our activation function is the sigmoid, the gradient of the loss function with respect to sigmoid input will simplify to just $(\\hat{y} - y)$.\n",
    "\n",
    "For linear layer with weights $W$, which produced $Y = WX$ from its input $X$, the gradient is the following:\n",
    "$$\n",
    "\\frac{\\partial L}{\\partial W} = X^T \\frac{\\partial L}{\\partial Y}\n",
    "$$\n",
    "\n",
    "In our network, we use ReLU activation and need to handle it as well during the backpropagation pass. For $Y = \\text{relu}(X)$, given $\\frac{\\partial L}{\\partial Y}$, we will have to compute $\\frac{\\partial L}{\\partial X}$, which is:\n",
    "$$\n",
    "\\frac{\\partial L}{\\partial X} =\n",
    "\\begin{cases}\n",
    "0&\\text{if $X<0$} \\\\\n",
    "\\frac{\\partial L}{\\partial X} &\\text{if $X \\geq 0$} \\\\\n",
    "\\end{cases}\n",
    "$$\n",
    "To be able to compute this value during backward pass, we will remember a `relu_mask` indicating the sign of values in $X$ during forward pass. The `RELU_AUX` epilog allows us to compute this mask automatically. The mask returned by `RELU_AUX` is a bitmask (to save the space) and can be later use with `DRELU_*` epilogs to compute the gradient."
   ]
  },
  {
   "cell_type": "markdown",
   "id": "0c1cf12a-f861-4f2e-9129-2b02c20df915",
   "metadata": {},
   "source": [
    "## Implementation baseclass\n",
    "\n",
    "`MnistNetBase` will serve as the base class for our implementation of the model. It handles weight and bias initialization, but doesn't implement forward and backward pass. We will provide implementations for them later in the notebook."
   ]
  },
  {
   "cell_type": "code",
   "execution_count": 3,
   "id": "7fdffb17-e580-42fb-b7d1-4df909f3061f",
   "metadata": {},
   "outputs": [],
   "source": [
    "class MnistNetBase:\n",
    "    def __init__(self, num_inputs, num_hidden, num_outputs):\n",
    "        cupy.random.seed(1234)\n",
    "\n",
    "        stdev1 = 1.0 / (num_inputs**0.5)\n",
    "        self.weights_hidden = cupy.random.uniform(-stdev1, stdev1, (num_hidden, num_inputs), dtype=cupy.float32)\n",
    "        self.bias_hidden = cupy.random.uniform(-stdev1, stdev1, num_hidden, dtype=cupy.float32)\n",
    "\n",
    "        stdev2 = 1.0 / (num_hidden**0.5)\n",
    "        self.weights_output = cupy.random.uniform(-stdev2, stdev2, (num_outputs, num_hidden), dtype=cupy.float32)\n",
    "        self.bias_output = cupy.random.uniform(-stdev2, stdev2, num_outputs, dtype=cupy.float32)\n",
    "\n",
    "    def forward(self):\n",
    "        raise NotImplementedError()\n",
    "\n",
    "    def backward(self, grad):\n",
    "        # return grad_weights_hidden, grad_bias_hidden, grad_weights_output, grad_bias_output\n",
    "        raise NotImplementedError()"
   ]
  },
  {
   "cell_type": "markdown",
   "id": "6372eec1-44df-4c8e-a97e-3e1726c9a56c",
   "metadata": {},
   "source": [
    "## Training framework\n",
    "\n",
    "In this section we will implement the boilerplate that we will use to train and test the network."
   ]
  },
  {
   "cell_type": "markdown",
   "id": "4f42b497-2f32-4bc1-a872-0d19e454e9f4",
   "metadata": {},
   "source": [
    "First, let us define a few helper functions."
   ]
  },
  {
   "cell_type": "code",
   "execution_count": 4,
   "id": "94985c84-07c8-4876-9136-db4645d2d444",
   "metadata": {},
   "outputs": [],
   "source": [
    "def one_hot(tensor, num_classes):\n",
    "    \"\"\"\n",
    "    Returns one-hot encoding of a 1-dimensional tensor\n",
    "    \"\"\"\n",
    "    assert len(tensor.shape) == 1\n",
    "    n = tensor.shape[0]\n",
    "    result = cupy.zeros((n, num_classes), dtype=cupy.float32)\n",
    "    result[cupy.arange(n), tensor] = 1\n",
    "    return result\n",
    "\n",
    "\n",
    "def sigmoid(x):\n",
    "    return 1 / (1 + cupy.exp(-x))\n",
    "\n",
    "\n",
    "def binary_cross_entropy(pred, target):\n",
    "    \"\"\"\n",
    "    Computes binary cross entropy loss between predictions and (one-hot encoded) target.\n",
    "    \"\"\"\n",
    "    eps = 1e-8\n",
    "    return -cupy.mean((1 - target) * cupy.log(1 - pred + eps) + target * cupy.log(pred + eps))"
   ]
  },
  {
   "cell_type": "markdown",
   "id": "96215504-d268-46e6-804b-e3eeb38328bd",
   "metadata": {},
   "source": [
    "Now let us define the training loop."
   ]
  },
  {
   "cell_type": "code",
   "execution_count": 5,
   "id": "257b3acc-7af4-4183-85bd-b4194dbff9ca",
   "metadata": {},
   "outputs": [],
   "source": [
    "def train(model):\n",
    "    \"\"\"\n",
    "    Trains the model for one epoch.\n",
    "    \"\"\"\n",
    "    train_loader = get_loader(train=True)\n",
    "    for idx, (data, target) in enumerate(train_loader):\n",
    "        output = model.forward(data)\n",
    "\n",
    "        loss = binary_cross_entropy(output, one_hot(target, 10))\n",
    "\n",
    "        if idx % 20 == 0:\n",
    "            print(f\"Batch {idx}  Loss: {loss}\")\n",
    "\n",
    "        # Compute gradient of binary cross-entropy and sigmoid...\n",
    "        grad = (output - one_hot(target, 10)) / BATCH_SIZE\n",
    "\n",
    "        # ...and backpropagate it through the model\n",
    "        grad_weights_hidden, grad_bias_hidden, grad_weights_output, grad_bias_output = model.backward(grad)\n",
    "\n",
    "        # Update the model parameters according to the gradients\n",
    "        LR = 0.1\n",
    "        model.weights_hidden -= LR * grad_weights_hidden\n",
    "        model.bias_hidden -= LR * grad_bias_hidden\n",
    "        model.weights_output -= LR * grad_weights_output\n",
    "        model.bias_output -= LR * grad_bias_output"
   ]
  },
  {
   "cell_type": "markdown",
   "id": "61716a0d-81af-4e71-b03b-5efaa68ad555",
   "metadata": {},
   "source": [
    "Finally, let us define a function to test the accuracy on test data."
   ]
  },
  {
   "cell_type": "code",
   "execution_count": 6,
   "id": "cad6b30f-6dca-4fe9-9cda-a8d453aebbc9",
   "metadata": {},
   "outputs": [],
   "source": [
    "def test(model):\n",
    "    \"\"\"\n",
    "    Tests the model on test data and returns its accuracy\n",
    "    \"\"\"\n",
    "    test_loader = get_loader(train=False)\n",
    "    correct, total = 0, 0\n",
    "    for data, target in test_loader:\n",
    "        output = model.forward(data)\n",
    "        pred = cupy.argmax(output, axis=1)\n",
    "        correct += (pred == target).sum().item()\n",
    "        total += BATCH_SIZE\n",
    "    return correct / total"
   ]
  },
  {
   "cell_type": "markdown",
   "id": "779591d8-499a-4d8f-b436-8198f482fe3b",
   "metadata": {},
   "source": [
    "And a function to visualize model predictions:"
   ]
  },
  {
   "cell_type": "code",
   "execution_count": 7,
   "id": "e3e97591-cafd-4512-b611-4db9145c8e1c",
   "metadata": {},
   "outputs": [],
   "source": [
    "def plot_predictions(model, num_samples=10):\n",
    "    loader = get_loader(train=False)\n",
    "    images, labels = next(loader)\n",
    "    predictions = cupy.argmax(model.forward(images), axis=1)\n",
    "    fig, axs = plt.subplots(1, num_samples)\n",
    "    for ax, image, label, prediction in zip(axs, images, labels, predictions, strict=False):\n",
    "        ax.imshow(image.get().reshape(28, 28), cmap=\"Grays\")\n",
    "        ax.axis(\"off\")\n",
    "        ax.set_title(f\"{prediction} ({label})\")"
   ]
  },
  {
   "cell_type": "markdown",
   "id": "f82c4d9c-f931-433b-b600-1af97bc80dc0",
   "metadata": {},
   "source": [
    "## Network implementation"
   ]
  },
  {
   "cell_type": "markdown",
   "id": "bed320f6-9240-4c82-a92f-1d66584f6f4e",
   "metadata": {},
   "source": [
    "In our implementation, we will use a stateful `Matmul` objects to amortize the planning cost across multiple iterations of the network. \n",
    "We will use a lazy approach, initializing each `Matmul` on its first use. Alternatively, we could initialize them in `__init__`.\n",
    "\n",
    "Note that in some places we use extra transpositions to match the layout requirements of the cuBLAS epilogs used."
   ]
  },
  {
   "cell_type": "code",
   "execution_count": 8,
   "id": "47077a54-d988-49d6-98c1-1c3b706450e3",
   "metadata": {},
   "outputs": [],
   "source": [
    "from nvmath.linalg.advanced import Matmul, MatmulEpilog as Epilog\n",
    "\n",
    "\n",
    "class MnistNet(MnistNetBase):\n",
    "    def __init__(self, inputs, hidden, outputs):\n",
    "        super().__init__(inputs, hidden, outputs)\n",
    "        self.forward_mm1 = self.forward_mm2 = None\n",
    "        self.backward_mm_weights_hidden = self.backward_mm_weights_output = self.backward_mm_masked = None\n",
    "\n",
    "    def forward(self, x):\n",
    "        # First linear layer, fused with ReLU + bias\n",
    "        if self.forward_mm1 is None:\n",
    "            self.forward_mm1 = Matmul(self.weights_hidden, x.T)\n",
    "            self.forward_mm1.plan(epilog=Epilog.RELU_AUX_BIAS, epilog_inputs={\"bias\": self.bias_hidden})\n",
    "        self.forward_mm1.reset_operands(b=x.T)\n",
    "        y, epilog_outputs = self.forward_mm1.execute()\n",
    "\n",
    "        # Second linear layer, fused with bias\n",
    "        if self.forward_mm2 is None:\n",
    "            self.forward_mm2 = Matmul(self.weights_output, y)\n",
    "            self.forward_mm2.plan(epilog=Epilog.BIAS, epilog_inputs={\"bias\": self.bias_output})\n",
    "        self.forward_mm2.reset_operands(b=y)\n",
    "        z = self.forward_mm2.execute().T\n",
    "\n",
    "        # Save values needed for backward pass\n",
    "        self.x, self.y, self.relu_mask = x, y.T, epilog_outputs[\"relu_aux\"]\n",
    "\n",
    "        return sigmoid(z)\n",
    "\n",
    "    def backward(self, grad):\n",
    "        # Gradient of the second linear layer\n",
    "        grad_bias_output = grad.sum(axis=0)\n",
    "        if self.backward_mm_weights_output is None:\n",
    "            self.backward_mm_weights_output = Matmul(grad.T, self.y)\n",
    "            self.backward_mm_weights_output.plan()\n",
    "        self.backward_mm_weights_output.reset_operands(a=grad.T, b=self.y)\n",
    "        grad_weights_output = self.backward_mm_weights_output.execute()\n",
    "\n",
    "        # Gradient of ReLU.\n",
    "        # DRELU_BGRAD epilog applies the mask provided in epilog_inputs[\"relu_aux\"] to the result\n",
    "        # and also puts bias gradient (sum of the result along the second axis) in epilog_outputs[\"drelu_bgrad\"].\n",
    "        if self.backward_mm_masked is None:\n",
    "            self.backward_mm_masked = Matmul(self.weights_output.T, grad.T)\n",
    "            self.backward_mm_masked.plan(epilog=Epilog.DRELU_BGRAD, epilog_inputs={\"relu_aux\": self.relu_mask})\n",
    "        self.backward_mm_masked.reset_operands(b=grad.T, epilog_inputs={\"relu_aux\": self.relu_mask})\n",
    "        grad_masked, epilog_outputs = self.backward_mm_masked.execute()\n",
    "\n",
    "        # Gradient of the second linear layer\n",
    "        grad_bias_hidden = epilog_outputs[\"drelu_bgrad\"]\n",
    "        if self.backward_mm_weights_hidden is None:\n",
    "            self.backward_mm_weights_hidden = Matmul(grad_masked, self.x)\n",
    "            self.backward_mm_weights_hidden.plan()\n",
    "        self.backward_mm_weights_hidden.reset_operands(a=grad_masked, b=self.x)\n",
    "        grad_weights_hidden = self.backward_mm_weights_hidden.execute()\n",
    "\n",
    "        return grad_weights_hidden, grad_bias_hidden, grad_weights_output, grad_bias_output\n",
    "\n",
    "    def __del__(self):\n",
    "        for mm in (\n",
    "            self.forward_mm1,\n",
    "            self.forward_mm2,\n",
    "            self.backward_mm_weights_output,\n",
    "            self.backward_mm_masked,\n",
    "            self.backward_mm_weights_hidden,\n",
    "        ):\n",
    "            if mm is not None:\n",
    "                mm.free()\n",
    "        super.__del__(self)"
   ]
  },
  {
   "cell_type": "markdown",
   "id": "e0e494f4-8bd5-46ab-ac14-de3f520319e3",
   "metadata": {},
   "source": [
    "Let us see if it works:"
   ]
  },
  {
   "cell_type": "code",
   "execution_count": 9,
   "id": "3902b179-7576-474c-898d-56e53e0fd17b",
   "metadata": {},
   "outputs": [
    {
     "name": "stdout",
     "output_type": "stream",
     "text": [
      "Batch 0  Loss: 0.6833281517028809\n",
      "Batch 20  Loss: 0.14179669320583344\n",
      "Batch 40  Loss: 0.09231308847665787\n",
      "Batch 60  Loss: 0.08305539935827255\n",
      "Batch 80  Loss: 0.09161611646413803\n",
      "Batch 100  Loss: 0.06788051128387451\n",
      "Batch 120  Loss: 0.0804247111082077\n",
      "Batch 140  Loss: 0.07379399240016937\n",
      "Batch 160  Loss: 0.06432733684778214\n",
      "Batch 180  Loss: 0.07992459833621979\n",
      "Batch 200  Loss: 0.05768051743507385\n",
      "Batch 220  Loss: 0.056580446660518646\n",
      "Accuracy: 0.9145633012820513\n"
     ]
    }
   ],
   "source": [
    "model = MnistNet(784, 30, 10)\n",
    "train(model)\n",
    "print(f\"Accuracy: {test(model)}\")"
   ]
  },
  {
   "cell_type": "code",
   "execution_count": 10,
   "id": "4ac16947-ada3-4437-ac67-9c7bb6ed387f",
   "metadata": {},
   "outputs": [
    {
     "data": {
      "image/png": "[encoded data removed]",
      "text/plain": [
       "<Figure size 640x480 with 10 Axes>"
      ]
     },
     "metadata": {},
     "output_type": "display_data"
    }
   ],
   "source": [
    "plot_predictions(model)"
   ]
  }
 ],
 "metadata": {
  "kernelspec": {
   "display_name": "Python 3 (ipykernel)",
   "language": "python",
   "name": "python3"
  },
  "language_info": {
   "codemirror_mode": {
    "name": "ipython",
    "version": 3
   },
   "file_extension": ".py",
   "mimetype": "text/x-python",
   "name": "python",
   "nbconvert_exporter": "python",
   "pygments_lexer": "ipython3",
   "version": "3.10.12"
  }
 },
 "nbformat": 4,
 "nbformat_minor": 5
}
